{
 "cells": [
  {
   "cell_type": "markdown",
   "metadata": {},
   "source": [
    "##### Import packages"
   ]
  },
  {
   "cell_type": "code",
   "execution_count": 1,
   "metadata": {},
   "outputs": [],
   "source": [
    "import os\n",
    "import numpy as np\n",
    "from tqdm import tqdm\n",
    "import yaml\n",
    "import datetime"
   ]
  },
  {
   "cell_type": "markdown",
   "metadata": {},
   "source": [
    "##### define input and output paths"
   ]
  },
  {
   "cell_type": "code",
   "execution_count": 2,
   "metadata": {},
   "outputs": [],
   "source": [
    "opencv_calib_file = \"cam_stereo.yml\"\n",
    "output_path = \"cam_calib\"\n",
    "output_file = \"cam_to_cam.txt\""
   ]
  },
  {
   "cell_type": "markdown",
   "metadata": {},
   "source": [
    "##### read the yml calibration file generated using opencv"
   ]
  },
  {
   "cell_type": "code",
   "execution_count": 3,
   "metadata": {},
   "outputs": [],
   "source": [
    "with open(opencv_calib_file) as input_file:\n",
    "    cv_calib_file = yaml.load(input_file, Loader=yaml.FullLoader)"
   ]
  },
  {
   "cell_type": "markdown",
   "metadata": {},
   "source": [
    "##### parse the calibration file from opencv (.yml) to the kitti format (.txt)"
   ]
  },
  {
   "cell_type": "code",
   "execution_count": 9,
   "metadata": {},
   "outputs": [],
   "source": [
    "num_of_cams = 2  # when using left and right cameras (stereo)\n",
    "img_org_size = [1.920000e+03, 1.208000e+03]  # op\n",
    "img_rect_size = [1.620000e+03, 9.080000e+02]\n",
    "if os.path.isdir(output_path):\n",
    "    f = open(os.path.join(output_path, output_file), \"w+\")\n",
    "else:\n",
    "    os.makedirs(output_path)\n",
    "    f = open(os.path.join(output_path, output_file), \"w+\")\n",
    "    \n",
    "L = \" \"\n",
    "temp = ['calib_time:']\n",
    "temp.extend([str(datetime.datetime.today())])\n",
    "temp[-1] = temp[-1]+'\\n'\n",
    "L = L.join(temp)\n",
    "f.writelines(L)\n",
    "    \n",
    "for i in range(num_of_cams):\n",
    "    L = \" \"\n",
    "    temp = ['S_0{}:'.format(i+2)]\n",
    "    temp.extend([str(x) for x in img_org_size])\n",
    "    temp[-1] = temp[-1]+'\\n'\n",
    "    L = L.join(temp)\n",
    "    f.writelines(L)\n",
    "    L = \" \"\n",
    "    temp = ['K_0'+str(i+2)+':']\n",
    "    temp.extend([str(x) for x in cv_calib_file['K'+str(i+1)]['data']])\n",
    "    temp[-1] = temp[-1]+'\\n'\n",
    "    L = L.join(temp)\n",
    "    f.writelines(L)\n",
    "    L = \" \"\n",
    "    temp = ['D_0'+str(i+2)+':']\n",
    "    temp.extend([str(x) for x in cv_calib_file['D'+str(i+1)]['data']])\n",
    "    temp[-1] = temp[-1]+'\\n'\n",
    "    L = L.join(temp)\n",
    "    f.writelines(L)\n",
    "    L = \" \"\n",
    "    temp = ['R_0'+str(i+2)+':']\n",
    "    temp.extend([str(x) for x in cv_calib_file['R']['data']])\n",
    "    temp[-1] = temp[-1]+'\\n'\n",
    "    L = L.join(temp)\n",
    "    f.writelines(L)\n",
    "    L = \" \"\n",
    "    temp = ['T_0'+str(i+2)+':']\n",
    "    temp.extend([str(x) for x in cv_calib_file['T']])\n",
    "    temp[-1] = temp[-1]+'\\n'\n",
    "    L = L.join(temp)\n",
    "    f.writelines(L)\n",
    "    L = \" \"\n",
    "    temp = ['S_0{}_rect'.format(i+2)+':']\n",
    "    temp.extend([str(x) for x in img_rect_size])\n",
    "    temp[-1] = temp[-1]+'\\n'\n",
    "    L = L.join(temp)\n",
    "    f.writelines(L)\n",
    "    L = \" \"\n",
    "    temp = ['R_rect_0{}:'.format(i+2)]\n",
    "    temp.extend([str(x) for x in cv_calib_file['R{}'.format(i+1)]['data']])\n",
    "    temp[-1] = temp[-1]+'\\n'\n",
    "    L = L.join(temp)\n",
    "    f.writelines(L)\n",
    "    L = \" \"\n",
    "    temp = ['P_rect_0{}:'.format(i+2)]\n",
    "    temp.extend([str(x) for x in cv_calib_file['P{}'.format(i+1)]['data']])\n",
    "    temp[-1] = temp[-1]+'\\n'\n",
    "    L = L.join(temp)\n",
    "    f.writelines(L)\n",
    "f.close()"
   ]
  },
  {
   "cell_type": "markdown",
   "metadata": {},
   "source": [
    "###### By changing the calibration index, the calibration file correspoding to image_0, image_1, image_2, image_3 can be generated."
   ]
  }
 ],
 "metadata": {
  "kernelspec": {
   "display_name": "Python 3.7.6 64-bit ('pytorch': conda)",
   "language": "python",
   "name": "python37664bitpytorchcondab3044eabd898427b8bca49a5928bf7ee"
  },
  "language_info": {
   "codemirror_mode": {
    "name": "ipython",
    "version": 3
   },
   "file_extension": ".py",
   "mimetype": "text/x-python",
   "name": "python",
   "nbconvert_exporter": "python",
   "pygments_lexer": "ipython3",
   "version": "3.7.6"
  }
 },
 "nbformat": 4,
 "nbformat_minor": 4
}
